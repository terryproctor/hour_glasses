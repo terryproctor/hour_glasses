{
 "cells": [
  {
   "cell_type": "markdown",
   "id": "630dad52",
   "metadata": {},
   "source": [
    "https://www.hackerrank.com/challenges/2d-array/problem?isFullScreen=true&h_l=interview&playlist_slugs%5B%5D=interview-preparation-kit&playlist_slugs%5B%5D=arrays"
   ]
  },
  {
   "cell_type": "code",
   "execution_count": 62,
   "id": "02413f68",
   "metadata": {},
   "outputs": [],
   "source": [
    "import math\n",
    "import os\n",
    "import random\n",
    "import re\n",
    "import sys"
   ]
  },
  {
   "cell_type": "code",
   "execution_count": 66,
   "id": "9536da92",
   "metadata": {},
   "outputs": [],
   "source": [
    "def hourglassSum(arr):\n",
    "    # Write your code here\n",
    "    totals = {}\n",
    "    centres = [\n",
    "        (1,1), (1,2), (1,3), (1,4),\n",
    "        (2,1), (2,2), (2,3), (2,4),\n",
    "        (3,1), (3,2), (3,3), (3,4),\n",
    "        (4,1), (4,2), (4,3), (4,4),\n",
    "        ]\n",
    "    \n",
    "    def hour_glass_total(centre, arr):\n",
    "        # r is row, c is column\n",
    "        r, c = centre\n",
    "        hour_glass = [\n",
    "            arr[r-1][c-1], arr[r-1][c], arr[r-1][c+1],\n",
    "                            arr[r][c],\n",
    "            arr[r+1][c-1], arr[r+1][c], arr[r+1][c+1]\n",
    "        ]\n",
    "        return sum(hour_glass)\n",
    "    \n",
    "    for centre in centres:\n",
    "        total = 0\n",
    "        totals[centre] = hour_glass_total(centre, arr)\n",
    "#     print(totals.values())\n",
    "    return max(totals.values())"
   ]
  },
  {
   "cell_type": "code",
   "execution_count": 67,
   "id": "56e298fd",
   "metadata": {},
   "outputs": [],
   "source": [
    "arr = [\n",
    "    [-9, -9, -9,  1, 1, 1], \n",
    "    [0, -9,  0,  4, 3, 2],\n",
    "    [-9, -9, -9,  1, 2, 3],\n",
    "    [0,  0,  8,  6, 6, 0],\n",
    "    [0,  0,  0, -2, 0, 0],\n",
    "    [0,  0,  1,  2, 4, 0]\n",
    "    ]"
   ]
  },
  {
   "cell_type": "code",
   "execution_count": 68,
   "id": "603a50e5",
   "metadata": {},
   "outputs": [
    {
     "data": {
      "text/plain": [
       "28"
      ]
     },
     "execution_count": 68,
     "metadata": {},
     "output_type": "execute_result"
    }
   ],
   "source": [
    "hourglassSum(arr)"
   ]
  },
  {
   "cell_type": "code",
   "execution_count": null,
   "id": "c338ef66",
   "metadata": {},
   "outputs": [],
   "source": []
  },
  {
   "cell_type": "code",
   "execution_count": null,
   "id": "b7337470",
   "metadata": {},
   "outputs": [],
   "source": []
  }
 ],
 "metadata": {
  "kernelspec": {
   "display_name": "Python 3",
   "language": "python",
   "name": "python3"
  },
  "language_info": {
   "codemirror_mode": {
    "name": "ipython",
    "version": 3
   },
   "file_extension": ".py",
   "mimetype": "text/x-python",
   "name": "python",
   "nbconvert_exporter": "python",
   "pygments_lexer": "ipython3",
   "version": "3.8.8"
  }
 },
 "nbformat": 4,
 "nbformat_minor": 5
}
